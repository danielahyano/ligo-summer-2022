{
 "cells": [
  {
   "cell_type": "code",
   "execution_count": 1,
   "metadata": {},
   "outputs": [],
   "source": [
    "import os\n",
    "import shutil\n",
    "import logging\n",
    "from tqdm import tqdm\n",
    "import pandas as pd\n",
    "import matplotlib.pyplot as plt\n",
    "%matplotlib inline\n",
    "\n",
    "logging.basicConfig(level=logging.INFO)\n",
    "logger = logging.getLogger(__name__)\n",
    "\n",
    "import numpy as np\n",
    "import bilby\n",
    "\n",
    "import sifce.parser as sparse"
   ]
  },
  {
   "cell_type": "code",
   "execution_count": 2,
   "metadata": {},
   "outputs": [],
   "source": [
    "arguments, parser = sparse.parse(config_file=\"test_config.cfg\")"
   ]
  },
  {
   "cell_type": "code",
   "execution_count": 3,
   "metadata": {},
   "outputs": [],
   "source": [
    "simset = sparse.construct_simulationset_from_parsed_arguments(arguments)\n",
    "simset.distribution['luminosity_distance'] = bilby.core.prior.DeltaFunction(1)"
   ]
  },
  {
   "cell_type": "code",
   "execution_count": 4,
   "metadata": {},
   "outputs": [],
   "source": [
    "n_int = 10\n",
    "simset.make_clean_simulations_dataframe()\n",
    "simset.sample_distribution(n_int)"
   ]
  },
  {
   "cell_type": "code",
   "execution_count": 5,
   "metadata": {},
   "outputs": [
    {
     "name": "stderr",
     "output_type": "stream",
     "text": [
      "10it [00:02,  3.48it/s]\n"
     ]
    }
   ],
   "source": [
    "scatter_dfs = []\n",
    "for idx, row in tqdm(simset.simulations_dataframe.iterrows()):\n",
    "    scatter_dfs += [simset.calc_snrs_sky(row,10000)]\n",
    "\n",
    "simset.simulations_dataframe = pd.concat(scatter_dfs, ignore_index=True)\n"
   ]
  },
  {
   "cell_type": "code",
   "execution_count": 6,
   "metadata": {},
   "outputs": [
    {
     "name": "stdout",
     "output_type": "stream",
     "text": [
      "(100000, 43)\n"
     ]
    }
   ],
   "source": []
  },
  {
   "cell_type": "code",
   "execution_count": 7,
   "metadata": {},
   "outputs": [
    {
     "ename": "SyntaxError",
     "evalue": "invalid syntax (291008845.py, line 6)",
     "output_type": "error",
     "traceback": [
      "\u001b[0;36m  Input \u001b[0;32mIn [7]\u001b[0;36m\u001b[0m\n\u001b[0;31m    for\u001b[0m\n\u001b[0m        ^\u001b[0m\n\u001b[0;31mSyntaxError\u001b[0m\u001b[0;31m:\u001b[0m invalid syntax\n"
     ]
    }
   ],
   "source": [
    "\n",
    "num_samples = np.linspace(50, 10000, 200)\n",
    "deviations = np.empty(n_int, num_samples.shape)\n",
    "\n",
    "means = np.empty(num_samples.shape)\n",
    "              \n",
    "for j in \n",
    "    for i, num in enumerate(num_samples):\n",
    "        opt_snrs_subset = simset.simulations_dataframe.head(int(num))['opt_snr_net']\n",
    "        opt_snr_mean = np.mean(opt_snrs_subset.values)\n",
    "        means[i] = opt_snr_mean\n",
    "\n",
    "\n",
    "for i, mean in enumerate(means):\n",
    "    fractional_deviation = (mean - means[-1]) / means[-1]\n",
    "    deviations[i] = fractional_deviation\n",
    "    \n",
    "plt.plot(num_samples, deviations)"
   ]
  },
  {
   "cell_type": "code",
   "execution_count": null,
   "metadata": {},
   "outputs": [],
   "source": [
    "# distance_scale_dfs = []\n",
    "# for idx, row in tqdm(simset.simulations_dataframe.iterrows()):\n",
    "#     distance_scale_dfs += [simset.sample_distances(row)]\n",
    "    \n",
    "# simset.simulations_dataframe = pd.concat(distance_scale_dfs, ignore_index=True)"
   ]
  },
  {
   "cell_type": "code",
   "execution_count": null,
   "metadata": {},
   "outputs": [],
   "source": []
  }
 ],
 "metadata": {
  "kernelspec": {
   "display_name": "SIFCEKernel",
   "language": "python",
   "name": "sifcekernel"
  },
  "language_info": {
   "codemirror_mode": {
    "name": "ipython",
    "version": 3
   },
   "file_extension": ".py",
   "mimetype": "text/x-python",
   "name": "python",
   "nbconvert_exporter": "python",
   "pygments_lexer": "ipython3",
   "version": "3.10.4"
  }
 },
 "nbformat": 4,
 "nbformat_minor": 4
}
