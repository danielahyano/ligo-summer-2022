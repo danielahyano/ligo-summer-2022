{
 "cells": [
  {
   "cell_type": "code",
   "execution_count": 19,
   "id": "50541069",
   "metadata": {},
   "outputs": [],
   "source": [
    "%matplotlib inline\n",
    "import urllib\n",
    "import matplotlib.pyplot as pp\n",
    "import pylab\n",
    "import numpy as np\n",
    "from pycbc.waveform import get_td_waveform\n",
    "from pycbc.filter.matchedfilter import sigmasq\n",
    "from pycbc.detector import Detector\n",
    "from pycbc.psd import analytical\n",
    "from pycbc.psd import read as psd_read    \n",
    "\n",
    "def calculate_snr(param_args):\n",
    "    ifos=['H1', 'L1', 'V1'] \n",
    "    sample_rate=1024\n",
    "\n",
    "    # Create n waveforms:\n",
    "    n=10\n",
    "    apx='IMRPhenomD'\n",
    "    distance=400 \n",
    "\n",
    "    # masses= np.random.randint(10, 35, size=n)\n",
    "    ra=2.2\n",
    "    dec=-1.25\n",
    "    pol=2.1 \n",
    "    t_gps=120\n",
    "    f_lower=10\n",
    "    hp, hc=get_td_waveform(approximant=apx,\n",
    "                            mass1=param_args['mass_1'],\n",
    "                            mass2=param_args['mass_2'],\n",
    "                            spin1z=param_args['spin_1z'],\n",
    "                            spin1x=param_args['spin_1x'],\n",
    "                            spin1y=param_args['spin_1y'],\n",
    "                            spin2z=param_args['spin_2z'],\n",
    "                            spin2x=param_args['spin_2x'],\n",
    "                            spin2y=param_args['spin_2y'],\n",
    "                            inclination=param_args['theta_jn'],\n",
    "                            coa_phase=param_args['phase'],\n",
    "                            distance=param_args['luminosity_distance'],\n",
    "                            f_lower=f_lower,\n",
    "                            delta_t=1.0/sample_rate)\n",
    "\n",
    "    flow = 10.0\n",
    "    delta_f = 1.0 / hp.duration \n",
    "    flen = int(sample_rate/delta_f)\n",
    "    psd = analytical.aLIGOZeroDetHighPower(flen, delta_f, flow) #optimize by calculating only once\n",
    "#     read_data = np.genfromtxt('o3_h1.txt')\n",
    "#     psd_data = read_data[:, 1]\n",
    "#     psd_data = psd_data ** 2\n",
    "#     freq = read_data[:, 0]\n",
    "#     psd = psd_read.from_numpy_arrays(freq, psd_data,flen, delta_f, 20)\n",
    "#     psd.data[np.argwhere(psd.data == 0)] = 1\n",
    "    \n",
    "    gw = {'hp': hp, 'hc':hc, 'psd': psd}\n",
    "    \n",
    "    for ifo in ifos:\n",
    "        det=Detector(ifo)\n",
    "        fp, fc=det.antenna_pattern(ra, dec, pol, t_gps)\n",
    "    \n",
    "        s= fp * gw['hp'] + fc * gw['hc']\n",
    "        snr = sigmasq(s,psd=gw['psd'], low_frequency_cutoff=10)\n",
    "        if 'snr_sq' in gw:  \n",
    "            gw['snr_sq'] += snr\n",
    "        else:\n",
    "            gw['snr_sq'] = snr\n",
    "            \n",
    "    return np.sqrt(gw['snr_sq'])\n"
   ]
  },
  {
   "cell_type": "code",
   "execution_count": 20,
   "id": "1b6a2a25",
   "metadata": {},
   "outputs": [
    {
     "data": {
      "text/plain": [
       "Text(0.5, 0, 'Mass (solar mass)')"
      ]
     },
     "execution_count": 20,
     "metadata": {},
     "output_type": "execute_result"
    },
    {
     "data": {
      "image/png": "[encoded data removed]",
      "text/plain": [
       "<Figure size 432x288 with 1 Axes>"
      ]
     },
     "metadata": {
      "needs_background": "light"
     },
     "output_type": "display_data"
    }
   ],
   "source": [
    "distance=1\n",
    "masses=np.arange(10, 40, 1)\n",
    "snr_ls=[]\n",
    "max_distance=[]\n",
    "\n",
    "param_args={}\n",
    "param_args['spin_1z']= 0.1\n",
    "param_args['spin_1x']= 0\n",
    "param_args['spin_1y']= 0\n",
    "param_args['spin_2z']= 0.2\n",
    "param_args['spin_2x']= 0\n",
    "param_args['spin_2y']= 0\n",
    "param_args['theta_jn']= 2.3\n",
    "param_args['phase']= 1\n",
    "\n",
    "for mass in masses:\n",
    "    while True:\n",
    "        param_args['mass_1']=mass\n",
    "        param_args['mass_2']=mass\n",
    "        param_args['luminosity_distance']=distance\n",
    "        snr = calculate_snr(param_args)\n",
    "        snr_ls.append(snr)\n",
    "        distance += 50\n",
    "    \n",
    "        if snr < 8:\n",
    "            max_distance.append(distance)\n",
    "            break\n",
    "\n",
    "pylab.plot(masses, max_distance)\n",
    "pylab.ylabel('Distance (Mpc)')\n",
    "pylab.xlabel('Mass (solar mass)')"
   ]
  },
  {
   "cell_type": "code",
   "execution_count": null,
   "id": "c59c0cf9",
   "metadata": {},
   "outputs": [],
   "source": [
    "#compute mass efficiency --> ((mass(distance it dropped - 1)/50) - 1)/((mass(distance it dropped - 1)/50))\n",
    "eff = (np.array(max_distance) - 50)/np.array(max_distance)\n",
    "print(eff)"
   ]
  },
  {
   "cell_type": "code",
   "execution_count": null,
   "id": "8efff16e",
   "metadata": {},
   "outputs": [],
   "source": [
    "from astropy import cosmology\n",
    "cosmo_model=cosmology.Planck15\n",
    "\n"
   ]
  },
  {
   "cell_type": "code",
   "execution_count": null,
   "id": "2205590b",
   "metadata": {},
   "outputs": [],
   "source": []
  }
 ],
 "metadata": {
  "kernelspec": {
   "display_name": "Python (igwn-py39)",
   "language": "python",
   "name": "igwn-py39"
  },
  "language_info": {
   "codemirror_mode": {
    "name": "ipython",
    "version": 3
   },
   "file_extension": ".py",
   "mimetype": "text/x-python",
   "name": "python",
   "nbconvert_exporter": "python",
   "pygments_lexer": "ipython3",
   "version": "3.9.13"
  }
 },
 "nbformat": 4,
 "nbformat_minor": 5
}
