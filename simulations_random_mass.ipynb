{
 "cells": [
  {
   "cell_type": "code",
   "execution_count": 5,
   "id": "50541069",
   "metadata": {},
   "outputs": [
    {
     "name": "stdout",
     "output_type": "stream",
     "text": [
      "mass 17 = 38.62607133668334 snr\n",
      "mass 27 = 56.0377164472265 snr\n",
      "mass 20 = 44.055492844356735 snr\n",
      "mass 16 = 36.77058263570758 snr\n",
      "mass 28 = 57.71638848019459 snr\n"
     ]
    }
   ],
   "source": [
    "%matplotlib inline\n",
    "import urllib\n",
    "import matplotlib.pyplot as pp\n",
    "import pylab\n",
    "import numpy as np\n",
    "from pycbc.waveform import get_td_waveform\n",
    "from pycbc.filter.matchedfilter import sigmasq\n",
    "from pycbc.detector import Detector\n",
    "from pycbc.psd import analytical\n",
    "from pycbc.psd import read as psd_read    \n",
    "\n",
    "def calculate_snr(mass, d):\n",
    "    ifos=['H1', 'L1', 'V1'] \n",
    "    sample_rate=1024\n",
    "\n",
    "    # Create n waveforms:\n",
    "    n=10\n",
    "    apx='IMRPhenomD'\n",
    "    distance=400 \n",
    "\n",
    "    # masses= np.random.randint(10, 35, size=n)\n",
    "    ra=2.2\n",
    "    dec=-1.25\n",
    "    pol=2.1 \n",
    "    t_gps=120\n",
    "    \n",
    "    hp, hc=get_td_waveform(approximant=apx,\n",
    "                             mass1=mass,\n",
    "                             mass2=mass,\n",
    "                             delta_t=1.0/sample_rate,\n",
    "                             f_lower=10,\n",
    "                             distance=d)\n",
    "    flow = 10.0\n",
    "    delta_f = 1.0 / hp.duration \n",
    "    flen = int(sample_rate/delta_f)\n",
    "#     psd = analytical.aLIGOZeroDetHighPower(flen, delta_f, flow) #optimize by calculating only once\n",
    "    read_data = np.genfromtxt('o3_h1.txt')\n",
    "    psd_data = read_data[:, 1]\n",
    "    psd_data = psd_data ** 2\n",
    "    freq = read_data[:, 0]\n",
    "    psd = psd_read.from_numpy_arrays(freq, psd_data,flen, delta_f, 20)\n",
    "    psd.data[np.argwhere(psd.data == 0)] = 1\n",
    "    \n",
    "    gw = {'hp': hp, 'hc':hc, 'psd': psd}\n",
    "    \n",
    "    for ifo in ifos:\n",
    "        det=Detector(ifo)\n",
    "        fp, fc=det.antenna_pattern(ra, dec, pol, t_gps)\n",
    "    \n",
    "        s= fp * gw['hp'] + fc * gw['hc']\n",
    "        snr = sigmasq(s,psd=gw['psd'], low_frequency_cutoff=10)\n",
    "        if 'snr_sq' in gw:  \n",
    "            gw['snr_sq'] += snr\n",
    "        else:\n",
    "            gw['snr_sq'] = snr\n",
    "            \n",
    "    return gw['snr_sq']\n"
   ]
  },
  {
   "cell_type": "code",
   "execution_count": null,
   "id": "1b6a2a25",
   "metadata": {},
   "outputs": [],
   "source": [
    "distance = 1\n",
    "masses = np.arange(10, 40, 1)\n",
    "snr_ls = []\n",
    "max_distance = []\n",
    "\n",
    "for mass in masses:\n",
    "    while True:\n",
    "        snr = calculate_snr(mass, distance)\n",
    "        snr_ls.append(snr)\n",
    "        distance += 50\n",
    "    \n",
    "        if snr < 8:\n",
    "            max_distance.append(distance)\n",
    "            break\n",
    "\n",
    "pylab.plot(masses, max_distance)\n",
    "pylab.ylabel('Distance (Mpc)')\n",
    "pylab.xlabel('Mass (solar mass)')"
   ]
  },
  {
   "cell_type": "code",
   "execution_count": null,
   "id": "c59c0cf9",
   "metadata": {},
   "outputs": [],
   "source": []
  },
  {
   "cell_type": "code",
   "execution_count": null,
   "id": "8efff16e",
   "metadata": {},
   "outputs": [],
   "source": []
  }
 ],
 "metadata": {
  "kernelspec": {
   "display_name": "Python (igwn-py39)",
   "language": "python",
   "name": "igwn-py39"
  },
  "language_info": {
   "codemirror_mode": {
    "name": "ipython",
    "version": 3
   },
   "file_extension": ".py",
   "mimetype": "text/x-python",
   "name": "python",
   "nbconvert_exporter": "python",
   "pygments_lexer": "ipython3",
   "version": "3.9.13"
  }
 },
 "nbformat": 4,
 "nbformat_minor": 5
}
