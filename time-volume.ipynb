{
 "cells": [
  {
   "cell_type": "code",
   "execution_count": null,
   "id": "70e7e830-592f-422c-8238-d126b9cabfdf",
   "metadata": {},
   "outputs": [],
   "source": [
    "import bilby\n",
    "import matplotlib.pyplot as plt\n",
    "import numpy as np\n",
    "import pylab\n",
    "from bilby.core.prior import Uniform, Sine, Cosine, PowerLaw, Constraint\n",
    "import numpy as np\n",
    "from pycbc.waveform import get_td_waveform\n",
    "from pycbc.filter.matchedfilter import sigmasq\n",
    "from pycbc.detector import Detector\n",
    "from pycbc.psd import analytical\n",
    "from pycbc.psd import read as psd_read    \n",
    "import astropy.units as u\n",
    "from astropy.cosmology import Planck15, z_at_value\n",
    "from scipy import integrate\n",
    "from astropy import constants as const\n",
    "%matplotlib inline"
   ]
  },
  {
   "cell_type": "code",
   "execution_count": 51,
   "id": "3a1acd20-b9a7-410c-90b9-c57c45e46832",
   "metadata": {},
   "outputs": [],
   "source": [
    "def calculate_snr(param_args, ifos_obj, psd_analytical=False, ra=2.2, dec=-1.25, pol=2.1, t_gps=120):\n",
    "    sample_rate=1024\n",
    "    apx='IMRPhenomD'\n",
    "    f_lower=10\n",
    "    hp, hc=get_td_waveform(approximant=apx,\n",
    "                            mass1=param_args['mass_1'],\n",
    "                            mass2=param_args['mass_2'],\n",
    "                            spin1z=param_args['spin_1z'],\n",
    "                            spin1x=param_args['spin_1x'],\n",
    "                            spin1y=param_args['spin_1y'],\n",
    "                            spin2z=param_args['spin_2z'],\n",
    "                            spin2x=param_args['spin_2x'],\n",
    "                            spin2y=param_args['spin_2y'],\n",
    "                            inclination=param_args['theta_jn'],\n",
    "                            coa_phase=param_args['phase'],\n",
    "                            distance=param_args['luminosity_distance'],\n",
    "                            f_lower=f_lower,\n",
    "                            delta_t=1.0/sample_rate)\n",
    "\n",
    "\n",
    "    flow = 10.0\n",
    "    delta_f = 1.0 / hp.duration \n",
    "    flen = int(sample_rate/delta_f)\n",
    "    if psd_analytical:\n",
    "        psd = analytical.aLIGOZeroDetHighPower(flen, delta_f, flow) #optimize by calculating only once   \n",
    "    else:\n",
    "        read_data = np.genfromtxt('o3_h1.txt')\n",
    "        psd_data = read_data[:, 1]\n",
    "        psd_data = psd_data ** 2\n",
    "        freq = read_data[:, 0]\n",
    "        psd = psd_read.from_numpy_arrays(freq, psd_data,flen, delta_f, 20)\n",
    "        psd.data[np.argwhere(psd.data == 0)] = 1\n",
    "    gw = {'hp': hp, 'hc':hc, 'psd': psd}\n",
    "    \n",
    "    for det in ifos_obj:\n",
    "        fp, fc=det.antenna_pattern(ra, dec, pol, t_gps)\n",
    "    \n",
    "        s= fp * gw['hp'] + fc * gw['hc']\n",
    "        snr = sigmasq(s,psd=gw['psd'], low_frequency_cutoff=10)\n",
    "        if 'snr_sq' in gw:  \n",
    "            gw['snr_sq'] += snr\n",
    "        else:\n",
    "            gw['snr_sq'] = snr\n",
    "            \n",
    "    return np.sqrt(gw['snr_sq'])\n",
    "\n",
    "def max_distance(param_args, ifos_obj, ra_lst, dec_lst, theta_jn_lst, snr_thres=8, psd_analytical=False):\n",
    "    max_distance_opt=list() \n",
    "    for i in range(n):\n",
    "        param_args['luminosity_distance']=1\n",
    "        if (i%(100) == 0):\n",
    "                print(i)\n",
    "        param_args['theta_jn']=theta_jn_lst[i] \n",
    "        while True:\n",
    "            param_args['theta_jn']=theta_jn_lst[i] \n",
    "            snr=calculate_snr(param_args, ifos_det, ra=ra_lst[i], dec=dec_lst[i])   \n",
    "            if snr < 8:\n",
    "                max_distance_opt.append(param_args['luminosity_distance'])\n",
    "                break\n",
    "            if snr >= 16:\n",
    "                param_args['luminosity_distance']= param_args['luminosity_distance'] * (snr/8)\n",
    "            else:\n",
    "                param_args['luminosity_distance']+=10\n",
    "    return max_distance_opt\n",
    "\n",
    "def calculate_sens_vol(max_dist_lst, integral, dl, n):\n",
    "    inds = (np.digitize(max_dist_lst,dl))\n",
    "    sum_total = 0 \n",
    "\n",
    "    for i in inds:\n",
    "        sum_total += integral[i]\n",
    "\n",
    "    h0 = Planck15.H(0)\n",
    "    volume_sens = (1*u.year)*(const.c/h0)*4*np.pi*sum_total/n\n",
    "    return (volume_sens * (u.km / (1e3 * u.m)) * (u.Gpc**3/(1e9*u.Mpc**3)))\n",
    "    "
   ]
  },
  {
   "cell_type": "code",
   "execution_count": 99,
   "id": "a8cc8861-40ba-4c68-b3b1-cefe3af7f146",
   "metadata": {},
   "outputs": [],
   "source": [
    "#set up ifos objects\n",
    "ifos=['H1', 'L1', 'V1']\n",
    "ifos_det = []\n",
    "\n",
    "for ifo in ifos:\n",
    "    ifos_det.append(Detector(ifo))\n",
    "    "
   ]
  },
  {
   "cell_type": "code",
   "execution_count": 40,
   "id": "08014a3d-93af-4776-8aa4-879050f71c66",
   "metadata": {},
   "outputs": [],
   "source": [
    "dl = np.arange(1, 10000, 10)\n",
    "z_lst = list()\n",
    "for i in dl:\n",
    "    z_lst.append(z_at_value(Planck15.luminosity_distance, i*u.Mpc).value)\n",
    "    \n",
    "cosmo_lst = list()\n",
    "for z in z_lst:\n",
    "    e = Planck15.efunc(z)\n",
    "    cosmo_lst.append(1/(e*(1+z)**3))\n",
    "\n",
    "kernel = cosmo_lst * (dl**2)\n",
    "integral = integrate.cumtrapz(kernel, x=z_lst) * u.Mpc ** 2"
   ]
  },
  {
   "cell_type": "code",
   "execution_count": 28,
   "id": "92bbd3a0-2542-4511-a74d-386ac09634fb",
   "metadata": {},
   "outputs": [],
   "source": [
    "prior=dict(dec=Cosine(name='dec'),\n",
    "           ra=Uniform(name='ra', minimum=0, maximum=2 * np.pi, boundary='periodic'),\n",
    "           theta_jn=Sine(name='theta_jn'))\n",
    "param_args = dict(mass_1=35,\n",
    "                  mass_2=35,\n",
    "                  spin_1z=0,\n",
    "                  spin_1x=0,\n",
    "                  spin_1y=0,\n",
    "                  spin_2z=0,\n",
    "                  spin_2x=0,\n",
    "                  spin_2y=0,\n",
    "                  phase=0,\n",
    "                  luminosity_distance=1)"
   ]
  },
  {
   "cell_type": "code",
   "execution_count": 44,
   "id": "fa43d777-2704-4bba-b60e-f1c1c115fc00",
   "metadata": {},
   "outputs": [],
   "source": [
    "#create samples for ra, dec and inclination\n",
    "n=500\n",
    "ra_lst=prior['ra'].sample(n)\n",
    "dec_lst=prior['dec'].sample(n)\n",
    "theta_jn_lst=prior['theta_jn'].sample(n)"
   ]
  },
  {
   "cell_type": "code",
   "execution_count": 45,
   "id": "97dee9c3-bcfd-4d94-86f2-f6e1e5bedf6d",
   "metadata": {},
   "outputs": [
    {
     "name": "stdout",
     "output_type": "stream",
     "text": [
      "0\n",
      "100\n",
      "200\n",
      "300\n",
      "400\n"
     ]
    }
   ],
   "source": [
    "#optimized minimum distance function\n",
    "param_args['luminosity_distance']=1\n",
    "max_distance_opt_500_samples=max_distance(param_args, ifos_det, ra_lst, dec_lst, theta_jn_lst)"
   ]
  },
  {
   "cell_type": "code",
   "execution_count": 47,
   "id": "83eff941-8a9a-48e0-9db3-3ea81b6476a9",
   "metadata": {},
   "outputs": [
    {
     "name": "stdout",
     "output_type": "stream",
     "text": [
      "500 injections sensitive volume = 10.878283590364832 Gpc3 yr\n"
     ]
    }
   ],
   "source": [
    "print(f\"{n} injections sensitive volume = {calculate_sens_vol(max_distance_opt_500_samples, integral, dl, n)}\")"
   ]
  },
  {
   "cell_type": "code",
   "execution_count": null,
   "id": "806e4784-86fc-4fa4-bc71-07ab8e2dbe10",
   "metadata": {},
   "outputs": [],
   "source": [
    "#create samples for ra, dec and inclination\n",
    "n=1000\n",
    "ra_lst=prior['ra'].sample(n)\n",
    "dec_lst=prior['dec'].sample(n)\n",
    "theta_jn_lst=prior['theta_jn'].sample(n)\n",
    "param_args['luminosity_distance']=1\n",
    "max_distance_opt_1000_samples=max_distance(param_args, ifos_det, ra_lst, dec_lst, theta_jn_lst)"
   ]
  },
  {
   "cell_type": "code",
   "execution_count": 49,
   "id": "a8fc7013-8372-44a1-b34c-e2a3d20d67ea",
   "metadata": {},
   "outputs": [
    {
     "name": "stdout",
     "output_type": "stream",
     "text": [
      "1000 injections sensitive volume = 10.428555192998534 Gpc3 yr\n"
     ]
    }
   ],
   "source": [
    "print(f\"{n} injections sensitive volume = {calculate_sens_vol(max_distance_opt_1000_samples, integral, dl, 1000)}\")"
   ]
  },
  {
   "cell_type": "code",
   "execution_count": null,
   "id": "fc180038-c7e7-4dcb-8d85-6b87eda8523b",
   "metadata": {},
   "outputs": [],
   "source": [
    "#create samples for ra, dec and inclination\n",
    "n=2500\n",
    "ra_lst=prior['ra'].sample(n)\n",
    "dec_lst=prior['dec'].sample(n)\n",
    "theta_jn_lst=prior['theta_jn'].sample(n)\n",
    "param_args['luminosity_distance']=1\n",
    "max_distance_opt_2500_samples=max_distance(param_args, ifos_det, ra_lst, dec_lst, theta_jn_lst)"
   ]
  },
  {
   "cell_type": "code",
   "execution_count": 52,
   "id": "d7667e3b-5810-4b64-9dda-3c349026f3a1",
   "metadata": {},
   "outputs": [
    {
     "name": "stdout",
     "output_type": "stream",
     "text": [
      "2500 injections sensitive volume = 10.436689029134676 Gpc3 yr\n"
     ]
    }
   ],
   "source": [
    "print(f\"{n} injections sensitive volume = {calculate_sens_vol(max_distance_opt_2500_samples, integral, dl, 2500)}\")"
   ]
  },
  {
   "cell_type": "code",
   "execution_count": 56,
   "id": "8e896262-c75b-474e-8d48-9060146a49d0",
   "metadata": {},
   "outputs": [
    {
     "name": "stdout",
     "output_type": "stream",
     "text": [
      "0\n",
      "100\n",
      "200\n",
      "300\n",
      "400\n"
     ]
    }
   ],
   "source": [
    "#create samples for ra, dec and inclination\n",
    "n=500\n",
    "ra_lst=prior['ra'].sample(n)\n",
    "dec_lst=prior['dec'].sample(n)\n",
    "theta_jn_lst=prior['theta_jn'].sample(n)\n",
    "param_args['luminosity_distance']=1\n",
    "max_distance_opt_500_samples_wovirgo=max_distance(param_args, ifos_det, ra_lst, dec_lst, theta_jn_lst)"
   ]
  },
  {
   "cell_type": "code",
   "execution_count": 57,
   "id": "45028332-d102-4ae4-ae7f-83eeac0f0d30",
   "metadata": {},
   "outputs": [
    {
     "name": "stdout",
     "output_type": "stream",
     "text": [
      "500 injections sensitive volume = 7.192096684992272 Gpc3 yr\n"
     ]
    }
   ],
   "source": [
    "print(f\"{n} injections sensitive volume = {calculate_sens_vol(max_distance_opt_500_samples_wovirgo, integral, dl, 500)}\")"
   ]
  },
  {
   "cell_type": "code",
   "execution_count": 60,
   "id": "7e7eed32-44db-4d20-a40f-a1a4cc1d5bd9",
   "metadata": {},
   "outputs": [
    {
     "data": {
      "text/plain": [
       "(array([24., 11., 16., 20., 13., 18., 20., 17., 15., 14., 10., 10., 11.,\n",
       "        18., 17., 15., 13., 18., 13., 17., 20., 16., 12., 12., 15., 11.,\n",
       "        17., 16., 16., 16., 15., 24.]),\n",
       " array([3.06309711e-03, 1.98677109e-01, 3.94291122e-01, 5.89905134e-01,\n",
       "        7.85519146e-01, 9.81133159e-01, 1.17674717e+00, 1.37236118e+00,\n",
       "        1.56797520e+00, 1.76358921e+00, 1.95920322e+00, 2.15481723e+00,\n",
       "        2.35043125e+00, 2.54604526e+00, 2.74165927e+00, 2.93727328e+00,\n",
       "        3.13288729e+00, 3.32850131e+00, 3.52411532e+00, 3.71972933e+00,\n",
       "        3.91534334e+00, 4.11095736e+00, 4.30657137e+00, 4.50218538e+00,\n",
       "        4.69779939e+00, 4.89341341e+00, 5.08902742e+00, 5.28464143e+00,\n",
       "        5.48025544e+00, 5.67586945e+00, 5.87148347e+00, 6.06709748e+00,\n",
       "        6.26271149e+00]),\n",
       " <BarContainer object of 32 artists>)"
      ]
     },
     "execution_count": 60,
     "metadata": {},
     "output_type": "execute_result"
    },
    {
     "data": {
      "image/png": "[encoded data removed]",
      "text/plain": [
       "<Figure size 432x288 with 1 Axes>"
      ]
     },
     "metadata": {
      "needs_background": "light"
     },
     "output_type": "display_data"
    }
   ],
   "source": [
    "pylab.hist(ra_lst, bins=32)"
   ]
  },
  {
   "cell_type": "code",
   "execution_count": 61,
   "id": "186b5992-4238-47cd-ad87-cd04d8aed0ce",
   "metadata": {},
   "outputs": [
    {
     "data": {
      "text/plain": [
       "(array([ 9., 19., 16., 40., 30., 52., 44., 41., 55., 44., 44., 31., 28.,\n",
       "        22., 15., 10.]),\n",
       " array([-1.50555679, -1.31812605, -1.13069531, -0.94326456, -0.75583382,\n",
       "        -0.56840308, -0.38097234, -0.1935416 , -0.00611085,  0.18131989,\n",
       "         0.36875063,  0.55618137,  0.74361211,  0.93104286,  1.1184736 ,\n",
       "         1.30590434,  1.49333508]),\n",
       " <BarContainer object of 16 artists>)"
      ]
     },
     "execution_count": 61,
     "metadata": {},
     "output_type": "execute_result"
    },
    {
     "data": {
      "image/png": "[encoded data removed]",
      "text/plain": [
       "<Figure size 432x288 with 1 Axes>"
      ]
     },
     "metadata": {
      "needs_background": "light"
     },
     "output_type": "display_data"
    }
   ],
   "source": [
    "pylab.hist(dec_lst, bins=16)"
   ]
  },
  {
   "cell_type": "code",
   "execution_count": 70,
   "id": "69aacd88-e579-43e4-99df-efed8f7e54cb",
   "metadata": {},
   "outputs": [],
   "source": [
    "n=5000\n",
    "ra_lst=prior['ra'].sample(n)\n",
    "dec_lst=prior['dec'].sample(n)\n",
    "theta_jn_lst=prior['theta_jn'].sample(n)\n",
    "snr_lst = list()\n",
    "param_args['luminosity_distance']=1\n",
    "for i in range(n):\n",
    "    param_args['theta_jn']=theta_jn_lst[i] \n",
    "    snr=calculate_snr(param_args, ifos_det, ra=ra_lst[i], dec=dec_lst[i])        \n",
    "    snr_lst.append(snr)"
   ]
  },
  {
   "cell_type": "code",
   "execution_count": 83,
   "id": "84250459-4b7e-4b76-9ef4-3a4d98b7bffd",
   "metadata": {},
   "outputs": [],
   "source": [
    "ra_bins = np.arange(0, 2*np.pi, 2*np.pi/32)\n",
    "dec_bins = np.arange(-np.pi/2, np.pi/2, np.pi/16)\n",
    "\n",
    "r = np.digitize(ra_lst, ra_bins)\n",
    "d = np.digitize(dec_lst, dec_bins)\n",
    "\n",
    "matrix = np.zeros((16, 32))\n",
    "i = 0\n",
    "for ra_ind, dec_ind in zip(r, d):\n",
    "    matrix[dec_ind-1, ra_ind-1] +=  snr_lst[i]\n",
    "    i+=1\n",
    "    "
   ]
  },
  {
   "cell_type": "code",
   "execution_count": 93,
   "id": "739f7116-4899-411a-ab9f-bbc41c2c8d1f",
   "metadata": {},
   "outputs": [],
   "source": [
    "bins_normalize = np.histogram2d(ra_lst, dec_lst, [16, 32])\n",
    "norm = bins_normalize[0]\n",
    "norm = np.where(norm == 0, 1, norm)"
   ]
  },
  {
   "cell_type": "code",
   "execution_count": 97,
   "id": "faa005e1-adee-4bde-b2e2-66c26ed063cb",
   "metadata": {},
   "outputs": [
    {
     "data": {
      "text/plain": [
       "<matplotlib.colorbar.Colorbar at 0x7fbff373f6d0>"
      ]
     },
     "execution_count": 97,
     "metadata": {},
     "output_type": "execute_result"
    },
    {
     "data": {
      "image/png": "[encoded data removed]",
      "text/plain": [
       "<Figure size 432x288 with 2 Axes>"
      ]
     },
     "metadata": {
      "needs_background": "light"
     },
     "output_type": "display_data"
    }
   ],
   "source": [
    "pylab.imshow(matrix/norm, cmap='hot', interpolation='nearest')\n",
    "pylab.title(\"H1 and L1 for 5000 simulations\")\n",
    "pylab.colorbar()\n",
    "#y axis = dec bins, x axis = ra bins\n"
   ]
  },
  {
   "cell_type": "code",
   "execution_count": 100,
   "id": "041c3ead-927c-4e79-912a-f42ed1beb6c5",
   "metadata": {},
   "outputs": [],
   "source": [
    "n=5000\n",
    "ra_lst_V1=prior['ra'].sample(n)\n",
    "dec_lst_V1=prior['dec'].sample(n)\n",
    "theta_jn_lst_V1=prior['theta_jn'].sample(n)\n",
    "snr_lst_V1= list()\n",
    "param_args['luminosity_distance']=1\n",
    "for i in range(n):\n",
    "    param_args['theta_jn']=theta_jn_lst_V1[i] \n",
    "    snr=calculate_snr(param_args, ifos_det, ra=ra_lst_V1[i], dec=dec_lst_V1[i])        \n",
    "    snr_lst_V1.append(snr)"
   ]
  },
  {
   "cell_type": "code",
   "execution_count": 101,
   "id": "73b84a62-efc2-49ed-83cd-5750c0b957e1",
   "metadata": {},
   "outputs": [],
   "source": [
    "r_V1 = np.digitize(ra_lst_V1, ra_bins)\n",
    "d_V1 = np.digitize(dec_lst_V1, dec_bins)\n",
    "\n",
    "matrix_V1 = np.zeros((16, 32))\n",
    "i = 0\n",
    "for ra_ind, dec_ind in zip(r_V1, d_V1):\n",
    "    matrix_V1[dec_ind-1, ra_ind-1] +=  snr_lst_V1[i]\n",
    "    i+=1\n",
    "\n",
    "bins_normalize_V1 = np.histogram2d(ra_lst_V1, dec_lst_V1, [16, 32])\n",
    "norm_V1 = bins_normalize_V1[0]\n",
    "norm_V1 = np.where(norm_V1 == 0, 1, norm_V1)\n"
   ]
  },
  {
   "cell_type": "code",
   "execution_count": 103,
   "id": "0f659dd2-5e0b-4118-aac4-9a1cd1381b76",
   "metadata": {},
   "outputs": [
    {
     "data": {
      "text/plain": [
       "<matplotlib.colorbar.Colorbar at 0x7fbfc41a8fd0>"
      ]
     },
     "execution_count": 103,
     "metadata": {},
     "output_type": "execute_result"
    },
    {
     "data": {
      "image/png": "[encoded data removed]",
      "text/plain": [
       "<Figure size 432x288 with 2 Axes>"
      ]
     },
     "metadata": {
      "needs_background": "light"
     },
     "output_type": "display_data"
    }
   ],
   "source": [
    "pylab.imshow(matrix_V1/norm_V1, cmap='hot', interpolation='nearest')\n",
    "pylab.title(\"H1, L1, and V1 for 5000 simulations\")\n",
    "pylab.colorbar()\n",
    "#y axis = dec bins, x axis = ra bins"
   ]
  },
  {
   "cell_type": "code",
   "execution_count": null,
   "id": "a2f86d76-1e06-4e6a-aefd-4b37198b5c0b",
   "metadata": {},
   "outputs": [],
   "source": []
  }
 ],
 "metadata": {
  "kernelspec": {
   "display_name": "igwn-py39",
   "language": "python",
   "name": "igwn-py39"
  },
  "language_info": {
   "codemirror_mode": {
    "name": "ipython",
    "version": 3
   },
   "file_extension": ".py",
   "mimetype": "text/x-python",
   "name": "python",
   "nbconvert_exporter": "python",
   "pygments_lexer": "ipython3",
   "version": "3.9.13"
  }
 },
 "nbformat": 4,
 "nbformat_minor": 5
}
