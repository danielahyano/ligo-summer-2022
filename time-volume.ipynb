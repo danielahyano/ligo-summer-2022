{
 "cells": [
  {
   "cell_type": "code",
   "execution_count": 2,
   "id": "70e7e830-592f-422c-8238-d126b9cabfdf",
   "metadata": {},
   "outputs": [],
   "source": [
    "import bilby\n",
    "import matplotlib.pyplot as plt\n",
    "import numpy as np\n",
    "import pylab\n",
    "from bilby.core.prior import Uniform, Sine, Cosine, PowerLaw, Constraint\n",
    "import numpy as np\n",
    "from pycbc.waveform import get_td_waveform\n",
    "from pycbc.filter.matchedfilter import sigmasq\n",
    "from pycbc.detector import Detector\n",
    "from pycbc.psd import analytical\n",
    "from pycbc.psd import read as psd_read    \n",
    "\n",
    "%matplotlib inline"
   ]
  },
  {
   "cell_type": "code",
   "execution_count": 3,
   "id": "3a1acd20-b9a7-410c-90b9-c57c45e46832",
   "metadata": {},
   "outputs": [],
   "source": [
    "def calculate_snr(param_args, ifos_obj, psd_analytical=False, ra=2.2, dec=-1.25, pol=2.1, t_gps=120):\n",
    "    sample_rate=1024\n",
    "    apx='IMRPhenomD'\n",
    "    f_lower=10\n",
    "    hp, hc=get_td_waveform(approximant=apx,\n",
    "                            mass1=param_args['mass_1'],\n",
    "                            mass2=param_args['mass_2'],\n",
    "                            spin1z=param_args['spin_1z'],\n",
    "                            spin1x=param_args['spin_1x'],\n",
    "                            spin1y=param_args['spin_1y'],\n",
    "                            spin2z=param_args['spin_2z'],\n",
    "                            spin2x=param_args['spin_2x'],\n",
    "                            spin2y=param_args['spin_2y'],\n",
    "                            inclination=param_args['theta_jn'],\n",
    "                            coa_phase=param_args['phase'],\n",
    "                            distance=param_args['luminosity_distance'],\n",
    "                            f_lower=f_lower,\n",
    "                            delta_t=1.0/sample_rate)\n",
    "\n",
    "\n",
    "    flow = 10.0\n",
    "    delta_f = 1.0 / hp.duration \n",
    "    flen = int(sample_rate/delta_f)\n",
    "    if psd_analytical:\n",
    "        psd = analytical.aLIGOZeroDetHighPower(flen, delta_f, flow) #optimize by calculating only once   \n",
    "    else:\n",
    "        read_data = np.genfromtxt('o3_h1.txt')\n",
    "        psd_data = read_data[:, 1]\n",
    "        psd_data = psd_data ** 2\n",
    "        freq = read_data[:, 0]\n",
    "        psd = psd_read.from_numpy_arrays(freq, psd_data,flen, delta_f, 20)\n",
    "        psd.data[np.argwhere(psd.data == 0)] = 1\n",
    "    gw = {'hp': hp, 'hc':hc, 'psd': psd}\n",
    "    \n",
    "    for det in ifos_obj:\n",
    "        fp, fc=det.antenna_pattern(ra, dec, pol, t_gps)\n",
    "    \n",
    "        s= fp * gw['hp'] + fc * gw['hc']\n",
    "        snr = sigmasq(s,psd=gw['psd'], low_frequency_cutoff=10)\n",
    "        if 'snr_sq' in gw:  \n",
    "            gw['snr_sq'] += snr\n",
    "        else:\n",
    "            gw['snr_sq'] = snr\n",
    "            \n",
    "    return np.sqrt(gw['snr_sq'])"
   ]
  },
  {
   "cell_type": "code",
   "execution_count": 4,
   "id": "a8cc8861-40ba-4c68-b3b1-cefe3af7f146",
   "metadata": {},
   "outputs": [],
   "source": [
    "#set up ifos objects\n",
    "ifos=['H1', 'L1', 'V1']\n",
    "ifos_det = []\n",
    "\n",
    "for ifo in ifos:\n",
    "    ifos_det.append(Detector(ifo))"
   ]
  },
  {
   "cell_type": "code",
   "execution_count": 6,
   "id": "92bbd3a0-2542-4511-a74d-386ac09634fb",
   "metadata": {},
   "outputs": [],
   "source": [
    "prior=dict(dec=Cosine(name='dec'),\n",
    "           ra=Uniform(name='ra', minimum=0, maximum=2 * np.pi, boundary='periodic'),\n",
    "           theta_jn=Sine(name='theta_jn'))\n",
    "param_args = dict(mass_1=35,\n",
    "                  mass_2=35,\n",
    "                  spin_1z=0,\n",
    "                  spin_1x=0,\n",
    "                  spin_1y=0,\n",
    "                  spin_2z=0,\n",
    "                  spin_2x=0,\n",
    "                  spin_2y=0,\n",
    "                  phase=0,\n",
    "                  luminosity_distance=1)"
   ]
  },
  {
   "cell_type": "code",
   "execution_count": 7,
   "id": "fa43d777-2704-4bba-b60e-f1c1c115fc00",
   "metadata": {},
   "outputs": [],
   "source": [
    "#create samples for ra, dec and inclination\n",
    "n=500\n",
    "ra_lst=prior['ra'].sample(n)\n",
    "dec_lst=prior['dec'].sample(n)\n",
    "theta_jn_lst=prior['theta_jn'].sample(n)"
   ]
  },
  {
   "cell_type": "code",
   "execution_count": null,
   "id": "97dee9c3-bcfd-4d94-86f2-f6e1e5bedf6d",
   "metadata": {},
   "outputs": [],
   "source": [
    "#optimized minimum distance function\n",
    "param_args['luminosity_distance']=1\n",
    "max_distance_opt=list() \n",
    "for i in range(n):\n",
    "    print(i)\n",
    "    param_args['luminosity_distance']=1\n",
    "    while True:\n",
    "        param_args['theta_jn']=theta_jn_lst[i] \n",
    "        snr=calculate_snr(param_args, ifos_det, ra=ra_lst[i], dec=dec_lst[i])        \n",
    "        if snr < 8:\n",
    "            max_distance_opt.append(param_args['luminosity_distance'])\n",
    "            break\n",
    "        if snr >= 16:\n",
    "            print(f\"SNR = {snr}, distance = {param_args['luminosity_distance']}\")\n",
    "            param_args['luminosity_distance']= param_args['luminosity_distance'] * (snr/8)\n",
    "        else:\n",
    "            param_args['luminosity_distance']+=50\n",
    "        print(f\"new distance={param_args['luminosity_distance']}\")"
   ]
  },
  {
   "cell_type": "code",
   "execution_count": 9,
   "id": "83eff941-8a9a-48e0-9db3-3ea81b6476a9",
   "metadata": {},
   "outputs": [
    {
     "data": {
      "text/plain": [
       "(array([16., 42., 74., 95., 92., 61., 56., 31., 23., 10.]),\n",
       " array([ 268.95431736,  635.92083064, 1002.88734392, 1369.8538572 ,\n",
       "        1736.82037048, 2103.78688375, 2470.75339703, 2837.71991031,\n",
       "        3204.68642359, 3571.65293687, 3938.61945015]),\n",
       " <BarContainer object of 10 artists>)"
      ]
     },
     "execution_count": 9,
     "metadata": {},
     "output_type": "execute_result"
    },
    {
     "data": {
      "image/png": "[encoded data removed]",
      "text/plain": [
       "<Figure size 432x288 with 1 Axes>"
      ]
     },
     "metadata": {
      "needs_background": "light"
     },
     "output_type": "display_data"
    }
   ],
   "source": [
    "pylab.hist(max_distance_opt)"
   ]
  },
  {
   "cell_type": "code",
   "execution_count": 10,
   "id": "806e4784-86fc-4fa4-bc71-07ab8e2dbe10",
   "metadata": {},
   "outputs": [
    {
     "name": "stdout",
     "output_type": "stream",
     "text": [
      "0.14119853723183318\n",
      "1.774353149060608\n"
     ]
    }
   ],
   "source": [
    "#calculate the solid angle integral --> not sure about the +pi/2 \n",
    "d_sa=np.cos(dec_lst)*ra_lst*(dec_lst)\n",
    "print(np.sum(d_sa)/n)\n",
    "print(4*np.pi*np.sum(d_sa)/n)"
   ]
  },
  {
   "cell_type": "code",
   "execution_count": 11,
   "id": "a8fc7013-8372-44a1-b34c-e2a3d20d67ea",
   "metadata": {},
   "outputs": [
    {
     "name": "stdout",
     "output_type": "stream",
     "text": [
      "268.9543173607981\n"
     ]
    }
   ],
   "source": [
    "print(min(max_distance_opt))"
   ]
  },
  {
   "cell_type": "code",
   "execution_count": 61,
   "id": "fc180038-c7e7-4dcb-8d85-6b87eda8523b",
   "metadata": {},
   "outputs": [],
   "source": [
    "import astropy.units as u\n",
    "from astropy.cosmology import Planck15, z_at_value\n",
    "from scipy import integrate\n",
    "\n",
    "dl = np.arange(1, 10000, 10)\n",
    "z = list()\n",
    "for i in dl:\n",
    "    z.append(z_at_value(Planck15.luminosity_distance, i*u.Mpc).value)\n",
    "c = list()\n",
    "for i in z:\n",
    "    c.append(Planck15.efunc(i))\n",
    "\n",
    "kernel = c * (dl**2)\n",
    "integral = integrate.cumtrapz(kernel, x=z) * u.Mpc ** 2\n"
   ]
  },
  {
   "cell_type": "code",
   "execution_count": 67,
   "id": "d7667e3b-5810-4b64-9dda-3c349026f3a1",
   "metadata": {},
   "outputs": [
    {
     "name": "stdout",
     "output_type": "stream",
     "text": [
      "8329001.9931672225 Mpc2\n"
     ]
    }
   ],
   "source": [
    "#i have bins of luminosity distance spaced by 10 --> put every distance into one of those bins, \n",
    "#get the integral value there and add\n",
    "inds = (np.digitize(max_distance_opt,dl))\n",
    "\n",
    "sum_total = 0 \n",
    "\n",
    "for i in inds:\n",
    "    sum_total += integral[i]\n",
    "\n",
    "volume_sens = 4*np.pi*sum_total/n\n",
    "print(volume_sens)"
   ]
  },
  {
   "cell_type": "code",
   "execution_count": 53,
   "id": "8e896262-c75b-474e-8d48-9060146a49d0",
   "metadata": {},
   "outputs": [
    {
     "data": {
      "text/plain": [
       "[<matplotlib.lines.Line2D at 0x7f9a51d90be0>]"
      ]
     },
     "execution_count": 53,
     "metadata": {},
     "output_type": "execute_result"
    },
    {
     "data": {
      "image/png": "[encoded data removed]",
      "text/plain": [
       "<Figure size 432x288 with 1 Axes>"
      ]
     },
     "metadata": {
      "needs_background": "light"
     },
     "output_type": "display_data"
    }
   ],
   "source": [
    "pylab.plot(kernel, dl)"
   ]
  },
  {
   "cell_type": "code",
   "execution_count": 60,
   "id": "45028332-d102-4ae4-ae7f-83eeac0f0d30",
   "metadata": {},
   "outputs": [
    {
     "name": "stdout",
     "output_type": "stream",
     "text": [
      "[ 0.244  0.584  1.036  1.616  2.34   3.224  4.284  5.536  6.996  8.68\n",
      " 10.604 12.784 15.236 17.976 21.02 ]\n"
     ]
    }
   ],
   "source": [
    "def f3(x):\n",
    "    return x**2\n",
    "\n",
    "x = np.arange(1, 4.2, 0.2)\n",
    "y1 = f3(x)\n",
    "I2 = integrate.cumtrapz(y1, x)\n",
    "print(I2)"
   ]
  },
  {
   "cell_type": "code",
   "execution_count": null,
   "id": "7e7eed32-44db-4d20-a40f-a1a4cc1d5bd9",
   "metadata": {},
   "outputs": [],
   "source": []
  }
 ],
 "metadata": {
  "kernelspec": {
   "display_name": "igwn-py39",
   "language": "python",
   "name": "igwn-py39"
  },
  "language_info": {
   "codemirror_mode": {
    "name": "ipython",
    "version": 3
   },
   "file_extension": ".py",
   "mimetype": "text/x-python",
   "name": "python",
   "nbconvert_exporter": "python",
   "pygments_lexer": "ipython3",
   "version": "3.9.13"
  }
 },
 "nbformat": 4,
 "nbformat_minor": 5
}
