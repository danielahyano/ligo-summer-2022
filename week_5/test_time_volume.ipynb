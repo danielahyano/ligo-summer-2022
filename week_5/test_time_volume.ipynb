{
 "cells": [
  {
   "cell_type": "code",
   "execution_count": 1,
   "id": "2460a531-35c3-4f63-b3bf-ec48addd3cb5",
   "metadata": {},
   "outputs": [],
   "source": [
    "from sifce import datatools, population, network\n",
    "import pandas as pd\n",
    "import numpy as np\n",
    "from bilby.core.prior import Uniform, Sine, Cosine, PowerLaw, Constraint, DeltaFunction\n",
    "from pycbc.detector import Detector\n",
    "from bilby.core.prior import PriorDict\n",
    "from pycbc.psd import analytical\n",
    "pd.set_option('display.max_columns', None)"
   ]
  },
  {
   "cell_type": "code",
   "execution_count": 2,
   "id": "797e5e9d-0a59-480e-9453-29633f8d10e8",
   "metadata": {},
   "outputs": [],
   "source": [
    "net = network.Network(ifos=[\"H1\", \"L1\"])"
   ]
  },
  {
   "cell_type": "code",
   "execution_count": 3,
   "id": "75f25a02-0a6c-4d7d-960f-838984f729a3",
   "metadata": {},
   "outputs": [],
   "source": [
    "sample_rate=1024\n",
    "flow = 20.0\n",
    "delta_f = 1.0/8\n",
    "flen = int(sample_rate/delta_f)\n",
    "psd = analytical.aLIGOZeroDetHighPower(flen, delta_f, flow)\n",
    "\n",
    "net.network_psds = {'H1': psd, 'L1': psd, 'V1':psd}"
   ]
  },
  {
   "cell_type": "code",
   "execution_count": 4,
   "id": "d98d968c-3606-415f-ac96-3bfbfa43aa8d",
   "metadata": {},
   "outputs": [],
   "source": [
    "prior_gw150914 = dict(mass_1= DeltaFunction(35),\n",
    "                     mass_2= DeltaFunction(35),\n",
    "                     a_1 = DeltaFunction(0.5),\n",
    "                     a_2 = DeltaFunction(0.5),\n",
    "                     tilt_1 = DeltaFunction(1.4),\n",
    "                     tilt_2 = DeltaFunction(1.4),\n",
    "                     phi_12 = DeltaFunction(3.09),\n",
    "                     phi_jl = DeltaFunction(5.21),\n",
    "                     theta_jn =  Sine(name='theta_jn'),\n",
    "                     phase = DeltaFunction(1.04),\n",
    "                     reference_frequency = DeltaFunction(20),\n",
    "                     dec=Cosine(name='dec'),\n",
    "                     ra=Uniform(name='ra', minimum=0, maximum=2 * np.pi, boundary='periodic'),\n",
    "                     psi =  Uniform(name='psi', minimum=0, maximum=np.pi, boundary='periodic'),\n",
    "                     luminosity_distance = PowerLaw(alpha=2, name='luminosity_distance', minimum=50, maximum=2000, unit='Mpc', latex_label='$d_L$'))"
   ]
  },
  {
   "cell_type": "code",
   "execution_count": 5,
   "id": "ce3df141-bd7a-4224-80ee-5b8d572d673e",
   "metadata": {},
   "outputs": [],
   "source": [
    "prior_obj = PriorDict(dictionary = prior_gw150914)\n",
    "pop = population.SimulationSet(distribution=prior_obj)\n",
    "pop.sample_distribution(100)"
   ]
  },
  {
   "cell_type": "code",
   "execution_count": 6,
   "id": "7ad2b729-52a5-489a-af9d-38a76ce30107",
   "metadata": {},
   "outputs": [
    {
     "name": "stderr",
     "output_type": "stream",
     "text": [
      "WARNING: IERSWarning: failed to download https://datacenter.iers.org/data/9/finals2000A.all: <urlopen error _ssl.c:980: The handshake operation timed out> [astropy.utils.iers.iers]\n"
     ]
    }
   ],
   "source": [
    "for i in range(len(pop.simulations_dataframe.index)):\n",
    "    row = pop.simulations_dataframe.iloc[[0]]\n",
    "    pop.calc_snrs_sky(row, net, N=10)"
   ]
  },
  {
   "cell_type": "code",
   "execution_count": null,
   "id": "279251ac-41c5-4ce6-b94f-66f53e434af4",
   "metadata": {},
   "outputs": [],
   "source": [
    "for i in range(len(pop.simulations_dataframe.index)):\n",
    "    row = pop.simulations_dataframe.iloc[[0]]\n",
    "    pop.sample_distances(row, net, N=10)"
   ]
  },
  {
   "cell_type": "code",
   "execution_count": null,
   "id": "e9649cd7-e93c-45e3-9681-1294346d9e7d",
   "metadata": {},
   "outputs": [],
   "source": [
    "pop.simulations_dataframe"
   ]
  },
  {
   "cell_type": "code",
   "execution_count": null,
   "id": "445e3999-69c8-4294-9186-3c08464b25ac",
   "metadata": {},
   "outputs": [],
   "source": [
    "from astropy.cosmology import Planck18\n",
    "tv = pop.sensitive_volume_calc(11, Planck18)"
   ]
  },
  {
   "cell_type": "code",
   "execution_count": null,
   "id": "5e8f1975-3e69-4ea6-b03f-b8096b04cf66",
   "metadata": {},
   "outputs": [],
   "source": [
    "tv"
   ]
  },
  {
   "cell_type": "code",
   "execution_count": null,
   "id": "43b96d73-a361-4c70-b370-4970a4b194a4",
   "metadata": {},
   "outputs": [],
   "source": []
  },
  {
   "cell_type": "code",
   "execution_count": null,
   "id": "fb742a3e-744f-4c57-886f-b7e2e28a76e3",
   "metadata": {},
   "outputs": [],
   "source": []
  },
  {
   "cell_type": "code",
   "execution_count": null,
   "id": "fb7e82d6-173b-4d0a-a80d-ba17e80415ad",
   "metadata": {},
   "outputs": [],
   "source": []
  }
 ],
 "metadata": {
  "kernelspec": {
   "display_name": "sifcekernel",
   "language": "python",
   "name": "sifcekernel"
  },
  "language_info": {
   "codemirror_mode": {
    "name": "ipython",
    "version": 3
   },
   "file_extension": ".py",
   "mimetype": "text/x-python",
   "name": "python",
   "nbconvert_exporter": "python",
   "pygments_lexer": "ipython3",
   "version": "3.10.4"
  }
 },
 "nbformat": 4,
 "nbformat_minor": 5
}
