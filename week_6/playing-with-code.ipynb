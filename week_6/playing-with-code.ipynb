{
 "cells": [
  {
   "cell_type": "code",
   "execution_count": 1,
   "id": "7368f214-2d04-4d10-adc4-a711c4848c71",
   "metadata": {},
   "outputs": [],
   "source": [
    "from sifce import datatools, sims, network, tv\n",
    "import pandas as pd\n",
    "import numpy as np\n",
    "from bilby.core.prior import Uniform, Sine, Cosine, PowerLaw, Constraint, DeltaFunction\n",
    "from pycbc.detector import Detector\n",
    "from bilby.core.prior import PriorDict\n",
    "from pycbc.psd import analytical\n",
    "from astropy.cosmology import Planck18\n",
    "pd.set_option('display.max_columns', None)"
   ]
  },
  {
   "cell_type": "code",
   "execution_count": 2,
   "id": "7cdbd6b5-e1b7-4927-90c2-55dd601fb05a",
   "metadata": {},
   "outputs": [
    {
     "data": {
      "text/plain": [
       "{'H1': <pycbc.types.frequencyseries.FrequencySeries at 0x7f1b32876620>,\n",
       " 'L1': <pycbc.types.frequencyseries.FrequencySeries at 0x7f1b3284b0a0>,\n",
       " 'V1': <pycbc.types.frequencyseries.FrequencySeries at 0x7f17ae959720>}"
      ]
     },
     "execution_count": 2,
     "metadata": {},
     "output_type": "execute_result"
    }
   ],
   "source": [
    "net = network.Network(ifo_uptime_file=\"segment_list.segs\",ifos=[\"H1\", \"L1\", \"V1\"], psd_config_file=\"net_psds.psds\")\n",
    "net.load_psds()\n",
    "net.psds_for_time(3)"
   ]
  },
  {
   "cell_type": "code",
   "execution_count": 3,
   "id": "cf1d41da-582f-4044-a06e-e2119e1b6d82",
   "metadata": {},
   "outputs": [],
   "source": [
    "prior_gw150914 = dict(mass_1= DeltaFunction(35),\n",
    "                     mass_2= DeltaFunction(35),\n",
    "                     a_1 = DeltaFunction(0.5),\n",
    "                     a_2 = DeltaFunction(0.5),\n",
    "                     tilt_1 = DeltaFunction(1.4),\n",
    "                     tilt_2 = DeltaFunction(1.4),\n",
    "                     phi_12 = DeltaFunction(3.09),\n",
    "                     phi_jl = DeltaFunction(5.21),\n",
    "                     theta_jn =  Sine(name='theta_jn'),\n",
    "                     phase = DeltaFunction(1.04),\n",
    "                     reference_frequency = DeltaFunction(20),\n",
    "                     dec=Cosine(name='dec'),\n",
    "                     ra=Uniform(name='ra', minimum=0, maximum=2 * np.pi, boundary='periodic'),\n",
    "                     psi =  Uniform(name='psi', minimum=0, maximum=np.pi, boundary='periodic'),\n",
    "                     geocent_time = DeltaFunction(5),\n",
    "                     luminosity_distance = PowerLaw(alpha=2, name='luminosity_distance', minimum=50, maximum=2000, unit='Mpc', latex_label='$d_L$'))"
   ]
  },
  {
   "cell_type": "code",
   "execution_count": 4,
   "id": "7f257a36-2fe0-4a5f-8c98-a7e525808c33",
   "metadata": {},
   "outputs": [],
   "source": [
    "prior_obj = PriorDict(dictionary = prior_gw150914)\n",
    "pop = sims.SimulationSet(distribution=prior_obj, cosmology_model=Planck18, network=net)\n",
    "pop.sample_distribution(10)"
   ]
  },
  {
   "cell_type": "code",
   "execution_count": 5,
   "id": "2ed69287-3630-48a4-8c07-61916c43502b",
   "metadata": {},
   "outputs": [
    {
     "ename": "ValueError",
     "evalue": "The truth value of a Series is ambiguous. Use a.empty, a.bool(), a.item(), a.any() or a.all().",
     "output_type": "error",
     "traceback": [
      "\u001b[0;31m---------------------------------------------------------------------------\u001b[0m",
      "\u001b[0;31mValueError\u001b[0m                                Traceback (most recent call last)",
      "Input \u001b[0;32mIn [5]\u001b[0m, in \u001b[0;36m<cell line: 2>\u001b[0;34m()\u001b[0m\n\u001b[1;32m      2\u001b[0m \u001b[38;5;28;01mfor\u001b[39;00m i \u001b[38;5;129;01min\u001b[39;00m \u001b[38;5;28mrange\u001b[39m(\u001b[38;5;28mlen\u001b[39m(pop\u001b[38;5;241m.\u001b[39msimulations_dataframe\u001b[38;5;241m.\u001b[39mindex)):\n\u001b[1;32m      3\u001b[0m     row \u001b[38;5;241m=\u001b[39m pop\u001b[38;5;241m.\u001b[39msimulations_dataframe\u001b[38;5;241m.\u001b[39miloc[[\u001b[38;5;241m0\u001b[39m]]\n\u001b[0;32m----> 4\u001b[0m     list_rows_sky\u001b[38;5;241m.\u001b[39mappend(\u001b[43mpop\u001b[49m\u001b[38;5;241;43m.\u001b[39;49m\u001b[43mcalc_snrs_sky\u001b[49m\u001b[43m(\u001b[49m\u001b[43mrow\u001b[49m\u001b[43m,\u001b[49m\u001b[43m \u001b[49m\u001b[43mN\u001b[49m\u001b[38;5;241;43m=\u001b[39;49m\u001b[38;5;241;43m10\u001b[39;49m\u001b[43m,\u001b[49m\u001b[43m \u001b[49m\u001b[43mbenchmark\u001b[49m\u001b[38;5;241;43m=\u001b[39;49m\u001b[38;5;28;43;01mTrue\u001b[39;49;00m\u001b[43m)\u001b[49m)\n",
      "File \u001b[0;32m~/summer-2022/sifce/sifce/sims.py:368\u001b[0m, in \u001b[0;36mSimulationSet.calc_snrs_sky\u001b[0;34m(self, row, N, benchmark)\u001b[0m\n\u001b[1;32m    363\u001b[0m     logging\u001b[38;5;241m.\u001b[39minfo(\n\u001b[1;32m    364\u001b[0m         \u001b[38;5;124mf\u001b[39m\u001b[38;5;124m\"\u001b[39m\u001b[38;5;124mcalc_snrs_sky: Time required to create the scatter was \u001b[39m\u001b[38;5;132;01m{\u001b[39;00mcreate_scatter \u001b[38;5;241m-\u001b[39m start\u001b[38;5;132;01m}\u001b[39;00m\u001b[38;5;124m\"\u001b[39m\n\u001b[1;32m    365\u001b[0m     )\n\u001b[1;32m    367\u001b[0m end_time \u001b[38;5;241m=\u001b[39m row_tmp[\u001b[38;5;124m\"\u001b[39m\u001b[38;5;124mgeocent_time\u001b[39m\u001b[38;5;124m\"\u001b[39m]\n\u001b[0;32m--> 368\u001b[0m psd_dict \u001b[38;5;241m=\u001b[39m \u001b[38;5;28;43mself\u001b[39;49m\u001b[38;5;241;43m.\u001b[39;49m\u001b[43mnetwork\u001b[49m\u001b[38;5;241;43m.\u001b[39;49m\u001b[43mpsds_for_time\u001b[49m\u001b[43m(\u001b[49m\u001b[43mend_time\u001b[49m\u001b[43m)\u001b[49m\n\u001b[1;32m    370\u001b[0m \u001b[38;5;28;01mif\u001b[39;00m benchmark:\n\u001b[1;32m    371\u001b[0m     load_psds \u001b[38;5;241m=\u001b[39m timeit\u001b[38;5;241m.\u001b[39mdefault_timer()\n",
      "File \u001b[0;32m~/summer-2022/sifce/sifce/network.py:454\u001b[0m, in \u001b[0;36mNetwork.psds_for_time\u001b[0;34m(self, time)\u001b[0m\n\u001b[1;32m    450\u001b[0m \u001b[38;5;28;01mdef\u001b[39;00m \u001b[38;5;21mpsds_for_time\u001b[39m(\u001b[38;5;28mself\u001b[39m, time):\n\u001b[1;32m    451\u001b[0m     \u001b[38;5;124;03m\"\"\"\u001b[39;00m\n\u001b[1;32m    452\u001b[0m \u001b[38;5;124;03m    Gets the PSDs for a given time\u001b[39;00m\n\u001b[1;32m    453\u001b[0m \u001b[38;5;124;03m    \"\"\"\u001b[39;00m\n\u001b[0;32m--> 454\u001b[0m     live_ifos \u001b[38;5;241m=\u001b[39m \u001b[38;5;28;43mself\u001b[39;49m\u001b[38;5;241;43m.\u001b[39;49m\u001b[43mlive_ifos_for_time\u001b[49m\u001b[43m(\u001b[49m\u001b[43mtime\u001b[49m\u001b[43m)\u001b[49m\n\u001b[1;32m    455\u001b[0m     psd_dict \u001b[38;5;241m=\u001b[39m \u001b[38;5;28mdict\u001b[39m()\n\u001b[1;32m    456\u001b[0m     \u001b[38;5;28;01mfor\u001b[39;00m ifo \u001b[38;5;129;01min\u001b[39;00m live_ifos:\n",
      "File \u001b[0;32m~/summer-2022/sifce/sifce/network.py:448\u001b[0m, in \u001b[0;36mNetwork.live_ifos_for_time\u001b[0;34m(self, time)\u001b[0m\n\u001b[1;32m    439\u001b[0m \u001b[38;5;28;01mdef\u001b[39;00m \u001b[38;5;21mlive_ifos_for_time\u001b[39m(\u001b[38;5;28mself\u001b[39m, time):\n\u001b[1;32m    440\u001b[0m     \u001b[38;5;124;03m\"\"\"\u001b[39;00m\n\u001b[1;32m    441\u001b[0m \u001b[38;5;124;03m    Get the IFOs which are on at a given time, according to the network\u001b[39;00m\n\u001b[1;32m    442\u001b[0m \n\u001b[0;32m   (...)\u001b[0m\n\u001b[1;32m    446\u001b[0m \u001b[38;5;124;03m        The time one is inquiring about\u001b[39;00m\n\u001b[1;32m    447\u001b[0m \u001b[38;5;124;03m    \"\"\"\u001b[39;00m\n\u001b[0;32m--> 448\u001b[0m     \u001b[38;5;28;01mreturn\u001b[39;00m \u001b[38;5;28;43mself\u001b[39;49m\u001b[38;5;241;43m.\u001b[39;49m\u001b[43msegments\u001b[49m\u001b[38;5;241;43m.\u001b[39;49m\u001b[43mkeys_at\u001b[49m\u001b[43m(\u001b[49m\u001b[43mtime\u001b[49m\u001b[43m)\u001b[49m\n",
      "File \u001b[0;32m~/.conda/envs/SIFCEenv/lib/python3.10/site-packages/ligo/segments/__init__.py:1189\u001b[0m, in \u001b[0;36msegmentlistdict.keys_at\u001b[0;34m(self, x)\u001b[0m\n\u001b[1;32m   1176\u001b[0m \u001b[38;5;28;01mdef\u001b[39;00m \u001b[38;5;21mkeys_at\u001b[39m(\u001b[38;5;28mself\u001b[39m, x):\n\u001b[1;32m   1177\u001b[0m \t\u001b[38;5;124;03m\"\"\"\u001b[39;00m\n\u001b[1;32m   1178\u001b[0m \u001b[38;5;124;03m\tReturn a list of the keys for the segment lists that\u001b[39;00m\n\u001b[1;32m   1179\u001b[0m \u001b[38;5;124;03m\tcontain x.\u001b[39;00m\n\u001b[0;32m   (...)\u001b[0m\n\u001b[1;32m   1187\u001b[0m \u001b[38;5;124;03m\t['H2']\u001b[39;00m\n\u001b[1;32m   1188\u001b[0m \u001b[38;5;124;03m\t\"\"\"\u001b[39;00m\n\u001b[0;32m-> 1189\u001b[0m \t\u001b[38;5;28;01mreturn\u001b[39;00m [key \u001b[38;5;28;01mfor\u001b[39;00m key, segs \u001b[38;5;129;01min\u001b[39;00m \u001b[38;5;28mself\u001b[39m\u001b[38;5;241m.\u001b[39mitems() \u001b[38;5;28;01mif\u001b[39;00m x \u001b[38;5;129;01min\u001b[39;00m segs]\n",
      "File \u001b[0;32m~/.conda/envs/SIFCEenv/lib/python3.10/site-packages/ligo/segments/__init__.py:1189\u001b[0m, in \u001b[0;36m<listcomp>\u001b[0;34m(.0)\u001b[0m\n\u001b[1;32m   1176\u001b[0m \u001b[38;5;28;01mdef\u001b[39;00m \u001b[38;5;21mkeys_at\u001b[39m(\u001b[38;5;28mself\u001b[39m, x):\n\u001b[1;32m   1177\u001b[0m \t\u001b[38;5;124;03m\"\"\"\u001b[39;00m\n\u001b[1;32m   1178\u001b[0m \u001b[38;5;124;03m\tReturn a list of the keys for the segment lists that\u001b[39;00m\n\u001b[1;32m   1179\u001b[0m \u001b[38;5;124;03m\tcontain x.\u001b[39;00m\n\u001b[0;32m   (...)\u001b[0m\n\u001b[1;32m   1187\u001b[0m \u001b[38;5;124;03m\t['H2']\u001b[39;00m\n\u001b[1;32m   1188\u001b[0m \u001b[38;5;124;03m\t\"\"\"\u001b[39;00m\n\u001b[0;32m-> 1189\u001b[0m \t\u001b[38;5;28;01mreturn\u001b[39;00m [key \u001b[38;5;28;01mfor\u001b[39;00m key, segs \u001b[38;5;129;01min\u001b[39;00m \u001b[38;5;28mself\u001b[39m\u001b[38;5;241m.\u001b[39mitems() \u001b[38;5;28;01mif\u001b[39;00m \u001b[43mx\u001b[49m\u001b[43m \u001b[49m\u001b[38;5;129;43;01min\u001b[39;49;00m\u001b[43m \u001b[49m\u001b[43msegs\u001b[49m]\n",
      "File \u001b[0;32m~/.conda/envs/SIFCEenv/lib/python3.10/site-packages/pandas/core/generic.py:1527\u001b[0m, in \u001b[0;36mNDFrame.__nonzero__\u001b[0;34m(self)\u001b[0m\n\u001b[1;32m   1525\u001b[0m \u001b[38;5;129m@final\u001b[39m\n\u001b[1;32m   1526\u001b[0m \u001b[38;5;28;01mdef\u001b[39;00m \u001b[38;5;21m__nonzero__\u001b[39m(\u001b[38;5;28mself\u001b[39m):\n\u001b[0;32m-> 1527\u001b[0m     \u001b[38;5;28;01mraise\u001b[39;00m \u001b[38;5;167;01mValueError\u001b[39;00m(\n\u001b[1;32m   1528\u001b[0m         \u001b[38;5;124mf\u001b[39m\u001b[38;5;124m\"\u001b[39m\u001b[38;5;124mThe truth value of a \u001b[39m\u001b[38;5;132;01m{\u001b[39;00m\u001b[38;5;28mtype\u001b[39m(\u001b[38;5;28mself\u001b[39m)\u001b[38;5;241m.\u001b[39m\u001b[38;5;18m__name__\u001b[39m\u001b[38;5;132;01m}\u001b[39;00m\u001b[38;5;124m is ambiguous. \u001b[39m\u001b[38;5;124m\"\u001b[39m\n\u001b[1;32m   1529\u001b[0m         \u001b[38;5;124m\"\u001b[39m\u001b[38;5;124mUse a.empty, a.bool(), a.item(), a.any() or a.all().\u001b[39m\u001b[38;5;124m\"\u001b[39m\n\u001b[1;32m   1530\u001b[0m     )\n",
      "\u001b[0;31mValueError\u001b[0m: The truth value of a Series is ambiguous. Use a.empty, a.bool(), a.item(), a.any() or a.all()."
     ]
    }
   ],
   "source": [
    "list_rows_sky = list()\n",
    "for i in range(len(pop.simulations_dataframe.index)):\n",
    "    row = pop.simulations_dataframe.iloc[[0]]\n",
    "    list_rows_sky.append(pop.calc_snrs_sky(row, N=10, benchmark=True))"
   ]
  },
  {
   "cell_type": "code",
   "execution_count": null,
   "id": "4f4e54bc-55ed-4777-9aea-59a8a06bb045",
   "metadata": {},
   "outputs": [],
   "source": [
    "pop.simulations_dataframe = pd.concat(list_rows_sky, ignore_index=True)"
   ]
  },
  {
   "cell_type": "code",
   "execution_count": null,
   "id": "f51819da-911c-4762-891e-34833fc983d1",
   "metadata": {},
   "outputs": [],
   "source": [
    "pop.simulations_dataframe"
   ]
  },
  {
   "cell_type": "code",
   "execution_count": null,
   "id": "10456d6f-b2ce-4a94-82e9-742cd3f7c252",
   "metadata": {},
   "outputs": [],
   "source": [
    "list_rows_distance = list()\n",
    "for i in range(len(pop.simulations_dataframe.index)):\n",
    "    row = pop.simulations_dataframe.iloc[[0]]\n",
    "    list_rows_distance.append(pop.sample_distances(row, N=1))\n",
    "    "
   ]
  },
  {
   "cell_type": "code",
   "execution_count": null,
   "id": "e4afe8da-cb8b-487f-b62b-5bf387b31606",
   "metadata": {},
   "outputs": [],
   "source": []
  }
 ],
 "metadata": {
  "kernelspec": {
   "display_name": "sifcekernel",
   "language": "python",
   "name": "sifcekernel"
  },
  "language_info": {
   "codemirror_mode": {
    "name": "ipython",
    "version": 3
   },
   "file_extension": ".py",
   "mimetype": "text/x-python",
   "name": "python",
   "nbconvert_exporter": "python",
   "pygments_lexer": "ipython3",
   "version": "3.10.4"
  }
 },
 "nbformat": 4,
 "nbformat_minor": 5
}
