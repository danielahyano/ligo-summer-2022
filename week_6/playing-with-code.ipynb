{
 "cells": [
  {
   "cell_type": "code",
   "execution_count": 1,
   "id": "7368f214-2d04-4d10-adc4-a711c4848c71",
   "metadata": {},
   "outputs": [],
   "source": [
    "from sifce import datatools, sims, network, tv\n",
    "import pandas as pd\n",
    "import numpy as np\n",
    "from bilby.core.prior import Uniform, Sine, Cosine, PowerLaw, Constraint, DeltaFunction\n",
    "from pycbc.detector import Detector\n",
    "from bilby.core.prior import PriorDict\n",
    "from pycbc.psd import analytical\n",
    "from astropy.cosmology import Planck18\n",
    "pd.set_option('display.max_columns', None)"
   ]
  },
  {
   "cell_type": "code",
   "execution_count": 2,
   "id": "7cdbd6b5-e1b7-4927-90c2-55dd601fb05a",
   "metadata": {},
   "outputs": [
    {
     "data": {
      "text/plain": [
       "{'H1': <pycbc.types.frequencyseries.FrequencySeries at 0x7f943dcaa9e0>,\n",
       " 'L1': <pycbc.types.frequencyseries.FrequencySeries at 0x7f943dcaaa40>,\n",
       " 'V1': <pycbc.types.frequencyseries.FrequencySeries at 0x7f90b9d8d390>}"
      ]
     },
     "execution_count": 2,
     "metadata": {},
     "output_type": "execute_result"
    }
   ],
   "source": [
    "net = network.Network(ifo_uptime_file=\"segment_list.segs\",ifos=[\"H1\", \"L1\", \"V1\"], psd_config_file=\"net_psds.psds\")\n",
    "net.load_psds()\n",
    "net.psds_for_time(5)"
   ]
  },
  {
   "cell_type": "code",
   "execution_count": 3,
   "id": "cf1d41da-582f-4044-a06e-e2119e1b6d82",
   "metadata": {},
   "outputs": [],
   "source": [
    "prior_gw150914 = dict(mass_1= DeltaFunction(35),\n",
    "                     mass_2= DeltaFunction(35),\n",
    "                     a_1 = DeltaFunction(0.5),\n",
    "                     a_2 = DeltaFunction(0.5),\n",
    "                     tilt_1 = DeltaFunction(1.4),\n",
    "                     tilt_2 = DeltaFunction(1.4),\n",
    "                     phi_12 = DeltaFunction(3.09),\n",
    "                     phi_jl = DeltaFunction(5.21),\n",
    "                     theta_jn =  Sine(name='theta_jn'),\n",
    "                     phase = DeltaFunction(1.04),\n",
    "                     reference_frequency = DeltaFunction(20),\n",
    "                     dec=Cosine(name='dec'),\n",
    "                     ra=Uniform(name='ra', minimum=0, maximum=2 * np.pi, boundary='periodic'),\n",
    "                     psi =  Uniform(name='psi', minimum=0, maximum=np.pi, boundary='periodic'),\n",
    "                     geocent_time = DeltaFunction(5),\n",
    "                     luminosity_distance = PowerLaw(alpha=2, name='luminosity_distance', minimum=50, maximum=2000, unit='Mpc', latex_label='$d_L$'))"
   ]
  },
  {
   "cell_type": "code",
   "execution_count": 4,
   "id": "7f257a36-2fe0-4a5f-8c98-a7e525808c33",
   "metadata": {},
   "outputs": [],
   "source": [
    "prior_obj = PriorDict(dictionary = prior_gw150914)\n",
    "pop = sims.SimulationSet(distribution=prior_obj, cosmology_model=Planck18, network=net)\n",
    "pop.sample_distribution(100)"
   ]
  },
  {
   "cell_type": "code",
   "execution_count": 5,
   "id": "b68a808a-0e87-4306-af8f-b9a7bc3f3b1b",
   "metadata": {},
   "outputs": [
    {
     "data": {
      "text/plain": [
       "nan"
      ]
     },
     "execution_count": 5,
     "metadata": {},
     "output_type": "execute_result"
    }
   ],
   "source": [
    "np.median(pop.simulations_dataframe[\"opt_snr_net\"])"
   ]
  },
  {
   "cell_type": "code",
   "execution_count": null,
   "id": "f7c61c23-35c9-41c1-82e6-c929dd28711a",
   "metadata": {},
   "outputs": [],
   "source": []
  },
  {
   "cell_type": "code",
   "execution_count": 6,
   "id": "2ed69287-3630-48a4-8c07-61916c43502b",
   "metadata": {},
   "outputs": [
    {
     "name": "stderr",
     "output_type": "stream",
     "text": [
      "WARNING: IERSWarning: failed to download https://datacenter.iers.org/data/9/finals2000A.all: <urlopen error _ssl.c:980: The handshake operation timed out> [astropy.utils.iers.iers]\n",
      "WARNING:astropy:IERSWarning: failed to download https://datacenter.iers.org/data/9/finals2000A.all: <urlopen error _ssl.c:980: The handshake operation timed out>\n"
     ]
    }
   ],
   "source": [
    "import copy\n",
    "list_rows_sky = list()\n",
    "for index, row in pop.simulations_dataframe.iterrows():\n",
    "    row = copy.copy(row)\n",
    "    row[\"luminosity_distance\"]=1\n",
    "    list_rows_sky.append(pop.calc_snrs_sky(row, N=10, benchmark=True))"
   ]
  },
  {
   "cell_type": "code",
   "execution_count": 7,
   "id": "4f4e54bc-55ed-4777-9aea-59a8a06bb045",
   "metadata": {},
   "outputs": [],
   "source": [
    "pop.simulations_dataframe = pd.concat(list_rows_sky, ignore_index=True)"
   ]
  },
  {
   "cell_type": "code",
   "execution_count": 8,
   "id": "f51819da-911c-4762-891e-34833fc983d1",
   "metadata": {},
   "outputs": [
    {
     "data": {
      "text/plain": [
       "1.0735769118393053"
      ]
     },
     "execution_count": 8,
     "metadata": {},
     "output_type": "execute_result"
    }
   ],
   "source": [
    "np.median(pop.simulations_dataframe[\"opt_snr_net\"])"
   ]
  },
  {
   "cell_type": "code",
   "execution_count": 9,
   "id": "f9c693d5-d178-4b15-bee0-042ea7c3148d",
   "metadata": {},
   "outputs": [
    {
     "data": {
      "text/html": [
       "<div>\n",
       "<style scoped>\n",
       "    .dataframe tbody tr th:only-of-type {\n",
       "        vertical-align: middle;\n",
       "    }\n",
       "\n",
       "    .dataframe tbody tr th {\n",
       "        vertical-align: top;\n",
       "    }\n",
       "\n",
       "    .dataframe thead th {\n",
       "        text-align: right;\n",
       "    }\n",
       "</style>\n",
       "<table border=\"1\" class=\"dataframe\">\n",
       "  <thead>\n",
       "    <tr style=\"text-align: right;\">\n",
       "      <th></th>\n",
       "      <th>mass_1</th>\n",
       "      <th>mass_2</th>\n",
       "      <th>spin_1x</th>\n",
       "      <th>spin_1y</th>\n",
       "      <th>spin_1z</th>\n",
       "      <th>spin_2x</th>\n",
       "      <th>spin_2y</th>\n",
       "      <th>spin_2z</th>\n",
       "      <th>theta_jn</th>\n",
       "      <th>phase</th>\n",
       "      <th>ra</th>\n",
       "      <th>dec</th>\n",
       "      <th>psi</th>\n",
       "      <th>geocent_time</th>\n",
       "      <th>luminosity_distance</th>\n",
       "      <th>redshift</th>\n",
       "      <th>chirp_mass</th>\n",
       "      <th>total_mass</th>\n",
       "      <th>mass_ratio</th>\n",
       "      <th>symmetric_mass_ratio</th>\n",
       "      <th>mass_1_source</th>\n",
       "      <th>mass_2_source</th>\n",
       "      <th>chirp_mass_source</th>\n",
       "      <th>total_mass_source</th>\n",
       "      <th>a_1</th>\n",
       "      <th>a_2</th>\n",
       "      <th>tilt_1</th>\n",
       "      <th>tilt_2</th>\n",
       "      <th>phi_12</th>\n",
       "      <th>phi_jl</th>\n",
       "      <th>reference_frequency</th>\n",
       "      <th>intrinsic_index</th>\n",
       "      <th>reference_snr_index</th>\n",
       "      <th>cal_idx</th>\n",
       "      <th>opt_snr_H1</th>\n",
       "      <th>mf_snr_H1</th>\n",
       "      <th>opt_snr_L1</th>\n",
       "      <th>mf_snr_L1</th>\n",
       "      <th>opt_snr_V1</th>\n",
       "      <th>mf_snr_V1</th>\n",
       "      <th>opt_snr_net</th>\n",
       "      <th>mf_snr_net</th>\n",
       "      <th>iota</th>\n",
       "      <th>phi_1</th>\n",
       "      <th>phi_2</th>\n",
       "    </tr>\n",
       "  </thead>\n",
       "  <tbody>\n",
       "  </tbody>\n",
       "</table>\n",
       "</div>"
      ],
      "text/plain": [
       "Empty DataFrame\n",
       "Columns: [mass_1, mass_2, spin_1x, spin_1y, spin_1z, spin_2x, spin_2y, spin_2z, theta_jn, phase, ra, dec, psi, geocent_time, luminosity_distance, redshift, chirp_mass, total_mass, mass_ratio, symmetric_mass_ratio, mass_1_source, mass_2_source, chirp_mass_source, total_mass_source, a_1, a_2, tilt_1, tilt_2, phi_12, phi_jl, reference_frequency, intrinsic_index, reference_snr_index, cal_idx, opt_snr_H1, mf_snr_H1, opt_snr_L1, mf_snr_L1, opt_snr_V1, mf_snr_V1, opt_snr_net, mf_snr_net, iota, phi_1, phi_2]\n",
       "Index: []"
      ]
     },
     "execution_count": 9,
     "metadata": {},
     "output_type": "execute_result"
    }
   ],
   "source": [
    "pop.simulations_dataframe[pop.simulations_dataframe[\"opt_snr_net\"] >= 2]"
   ]
  },
  {
   "cell_type": "code",
   "execution_count": 10,
   "id": "10456d6f-b2ce-4a94-82e9-742cd3f7c252",
   "metadata": {},
   "outputs": [],
   "source": [
    "list_rows_distance = list()\n",
    "for index, row in pop.simulations_dataframe.iterrows():\n",
    "    list_rows_distance.append(pop.sample_distances(row, N=10))"
   ]
  },
  {
   "cell_type": "code",
   "execution_count": 11,
   "id": "e4afe8da-cb8b-487f-b62b-5bf387b31606",
   "metadata": {},
   "outputs": [],
   "source": [
    "pop.simulations_dataframe = pd.concat(list_rows_distance, ignore_index=True)"
   ]
  },
  {
   "cell_type": "code",
   "execution_count": 12,
   "id": "6fb7759e-b1de-4231-b2ab-03c0a8362caf",
   "metadata": {},
   "outputs": [
    {
     "data": {
      "text/html": [
       "<div>\n",
       "<style scoped>\n",
       "    .dataframe tbody tr th:only-of-type {\n",
       "        vertical-align: middle;\n",
       "    }\n",
       "\n",
       "    .dataframe tbody tr th {\n",
       "        vertical-align: top;\n",
       "    }\n",
       "\n",
       "    .dataframe thead th {\n",
       "        text-align: right;\n",
       "    }\n",
       "</style>\n",
       "<table border=\"1\" class=\"dataframe\">\n",
       "  <thead>\n",
       "    <tr style=\"text-align: right;\">\n",
       "      <th></th>\n",
       "      <th>mass_1</th>\n",
       "      <th>mass_2</th>\n",
       "      <th>spin_1x</th>\n",
       "      <th>spin_1y</th>\n",
       "      <th>spin_1z</th>\n",
       "      <th>spin_2x</th>\n",
       "      <th>spin_2y</th>\n",
       "      <th>spin_2z</th>\n",
       "      <th>theta_jn</th>\n",
       "      <th>phase</th>\n",
       "      <th>ra</th>\n",
       "      <th>dec</th>\n",
       "      <th>psi</th>\n",
       "      <th>geocent_time</th>\n",
       "      <th>luminosity_distance</th>\n",
       "      <th>redshift</th>\n",
       "      <th>chirp_mass</th>\n",
       "      <th>total_mass</th>\n",
       "      <th>mass_ratio</th>\n",
       "      <th>symmetric_mass_ratio</th>\n",
       "      <th>mass_1_source</th>\n",
       "      <th>mass_2_source</th>\n",
       "      <th>chirp_mass_source</th>\n",
       "      <th>total_mass_source</th>\n",
       "      <th>a_1</th>\n",
       "      <th>a_2</th>\n",
       "      <th>tilt_1</th>\n",
       "      <th>tilt_2</th>\n",
       "      <th>phi_12</th>\n",
       "      <th>phi_jl</th>\n",
       "      <th>reference_frequency</th>\n",
       "      <th>intrinsic_index</th>\n",
       "      <th>reference_snr_index</th>\n",
       "      <th>cal_idx</th>\n",
       "      <th>opt_snr_H1</th>\n",
       "      <th>mf_snr_H1</th>\n",
       "      <th>opt_snr_L1</th>\n",
       "      <th>mf_snr_L1</th>\n",
       "      <th>opt_snr_V1</th>\n",
       "      <th>mf_snr_V1</th>\n",
       "      <th>opt_snr_net</th>\n",
       "      <th>mf_snr_net</th>\n",
       "      <th>iota</th>\n",
       "      <th>phi_1</th>\n",
       "      <th>phi_2</th>\n",
       "    </tr>\n",
       "  </thead>\n",
       "  <tbody>\n",
       "  </tbody>\n",
       "</table>\n",
       "</div>"
      ],
      "text/plain": [
       "Empty DataFrame\n",
       "Columns: [mass_1, mass_2, spin_1x, spin_1y, spin_1z, spin_2x, spin_2y, spin_2z, theta_jn, phase, ra, dec, psi, geocent_time, luminosity_distance, redshift, chirp_mass, total_mass, mass_ratio, symmetric_mass_ratio, mass_1_source, mass_2_source, chirp_mass_source, total_mass_source, a_1, a_2, tilt_1, tilt_2, phi_12, phi_jl, reference_frequency, intrinsic_index, reference_snr_index, cal_idx, opt_snr_H1, mf_snr_H1, opt_snr_L1, mf_snr_L1, opt_snr_V1, mf_snr_V1, opt_snr_net, mf_snr_net, iota, phi_1, phi_2]\n",
       "Index: []"
      ]
     },
     "execution_count": 12,
     "metadata": {},
     "output_type": "execute_result"
    }
   ],
   "source": [
    "pop.simulations_dataframe[pop.simulations_dataframe[\"opt_snr_net\"] >= 2]"
   ]
  },
  {
   "cell_type": "code",
   "execution_count": 13,
   "id": "3ec990c8-f244-44f5-bbd2-c5d58b4f44f3",
   "metadata": {},
   "outputs": [],
   "source": [
    "def step(row):\n",
    "    if row[\"opt_snr_net\"] >= 11:\n",
    "        return 1\n",
    "    return 0"
   ]
  },
  {
   "cell_type": "code",
   "execution_count": 14,
   "id": "fc9e9387-440f-4aa8-8701-c8d9223b13cf",
   "metadata": {},
   "outputs": [],
   "source": [
    "# Timevol = tv.TimeVolume(cosmology=Planck18, simulation=pop, function_detection=step)"
   ]
  },
  {
   "cell_type": "code",
   "execution_count": 15,
   "id": "f50d0f62-2991-4c8f-915d-b50a2acd4c07",
   "metadata": {},
   "outputs": [],
   "source": [
    "# Timevol.sensitive_volume_calc()"
   ]
  },
  {
   "cell_type": "code",
   "execution_count": null,
   "id": "6043e93e-6447-4375-bffa-e66ebf7457a4",
   "metadata": {},
   "outputs": [],
   "source": []
  },
  {
   "cell_type": "code",
   "execution_count": null,
   "id": "6b4bfb26-ceb6-463d-95bf-e4259ef413d0",
   "metadata": {},
   "outputs": [],
   "source": []
  }
 ],
 "metadata": {
  "kernelspec": {
   "display_name": "sifcekernel",
   "language": "python",
   "name": "sifcekernel"
  },
  "language_info": {
   "codemirror_mode": {
    "name": "ipython",
    "version": 3
   },
   "file_extension": ".py",
   "mimetype": "text/x-python",
   "name": "python",
   "nbconvert_exporter": "python",
   "pygments_lexer": "ipython3",
   "version": "3.10.4"
  }
 },
 "nbformat": 4,
 "nbformat_minor": 5
}
